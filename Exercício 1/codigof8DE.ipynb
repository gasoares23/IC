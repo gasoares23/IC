{
  "nbformat": 4,
  "nbformat_minor": 0,
  "metadata": {
    "colab": {
      "provenance": [],
      "authorship_tag": "ABX9TyNcok2LCf7fXQKxeP7Bo48a",
      "include_colab_link": true
    },
    "kernelspec": {
      "name": "python3",
      "display_name": "Python 3"
    },
    "language_info": {
      "name": "python"
    }
  },
  "cells": [
    {
      "cell_type": "markdown",
      "metadata": {
        "id": "view-in-github",
        "colab_type": "text"
      },
      "source": [
        "<a href=\"https://colab.research.google.com/github/gasoares23/IC/blob/main/codigof8DE.ipynb\" target=\"_parent\"><img src=\"https://colab.research.google.com/assets/colab-badge.svg\" alt=\"Open In Colab\"/></a>"
      ]
    },
    {
      "cell_type": "code",
      "execution_count": 1,
      "metadata": {
        "colab": {
          "base_uri": "https://localhost:8080/"
        },
        "id": "jgo3sZLL4hXI",
        "outputId": "886bb7bb-c8d6-4a8d-a2a1-31fa6158c019"
      },
      "outputs": [
        {
          "output_type": "stream",
          "name": "stdout",
          "text": [
            "Collecting scikit-opt\n",
            "  Downloading scikit_opt-0.6.6-py3-none-any.whl (35 kB)\n",
            "Requirement already satisfied: numpy in /usr/local/lib/python3.10/dist-packages (from scikit-opt) (1.25.2)\n",
            "Requirement already satisfied: scipy in /usr/local/lib/python3.10/dist-packages (from scikit-opt) (1.11.4)\n",
            "Installing collected packages: scikit-opt\n",
            "Successfully installed scikit-opt-0.6.6\n"
          ]
        }
      ],
      "source": [
        "pip install scikit-opt"
      ]
    },
    {
      "cell_type": "code",
      "source": [
        "import numpy as np\n",
        "\n",
        "def obj_func(p):\n",
        "    x = np.zeros(30)  # Inicializa um array de 30 elementos com zeros\n",
        "    for i in range(30):\n",
        "        x[i] = p[i]  # Atribui os valores de p para x na posição i\n",
        "\n",
        "    soma = 0\n",
        "    for i in range(30):\n",
        "        soma += x[i] * np.sin((abs(x[i])**0.5))\n",
        "\n",
        "    result = 418.9829*30 - soma\n",
        "    return result"
      ],
      "metadata": {
        "id": "Vrw0Iykn4kvI"
      },
      "execution_count": 2,
      "outputs": []
    },
    {
      "cell_type": "code",
      "source": [
        "from sko.DE import DE\n",
        "\n",
        "de = DE(func=obj_func, n_dim=30, size_pop=50, max_iter=800, lb = [-500] * 30, ub = [500] * 30)\n",
        "\n",
        "best_x, best_y = de.run()\n",
        "print('best_x:', best_x, '\\n', 'best_y:', best_y)\n"
      ],
      "metadata": {
        "colab": {
          "base_uri": "https://localhost:8080/"
        },
        "id": "jdf3hoeP4kZm",
        "outputId": "f78ffad3-f064-4d29-f375-0cbdb558f8b6"
      },
      "execution_count": 3,
      "outputs": [
        {
          "output_type": "stream",
          "name": "stdout",
          "text": [
            "best_x: [420.97346372 421.13802569 421.06905395 421.18038677 420.99923125\n",
            " 421.05854028 420.87674109 421.17370167 420.9952048  421.0107941\n",
            " 420.82132087 420.92952212 420.85387046 421.14431012 420.89475376\n",
            " 420.96454432 421.18445525 420.860258   420.75381455 421.03199311\n",
            " 421.09668513 421.04420441 420.91206571 420.89654294 421.1895645\n",
            " 421.07290287 420.96400036 420.94217418 420.86479168 420.9114712 ] \n",
            " best_y: [0.05485142]\n"
          ]
        }
      ]
    }
  ]
}