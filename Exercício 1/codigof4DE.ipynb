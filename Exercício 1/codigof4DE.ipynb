{
  "nbformat": 4,
  "nbformat_minor": 0,
  "metadata": {
    "colab": {
      "provenance": [],
      "authorship_tag": "ABX9TyO6BwAgm/IoKbvDa5cv6spJ",
      "include_colab_link": true
    },
    "kernelspec": {
      "name": "python3",
      "display_name": "Python 3"
    },
    "language_info": {
      "name": "python"
    }
  },
  "cells": [
    {
      "cell_type": "markdown",
      "metadata": {
        "id": "view-in-github",
        "colab_type": "text"
      },
      "source": [
        "<a href=\"https://colab.research.google.com/github/gasoares23/IC/blob/main/codigof4DE.ipynb\" target=\"_parent\"><img src=\"https://colab.research.google.com/assets/colab-badge.svg\" alt=\"Open In Colab\"/></a>"
      ]
    },
    {
      "cell_type": "code",
      "execution_count": 1,
      "metadata": {
        "colab": {
          "base_uri": "https://localhost:8080/"
        },
        "id": "dqwL9zme2UV-",
        "outputId": "51265680-303d-45aa-cef6-5c9ac78ff7ae"
      },
      "outputs": [
        {
          "output_type": "stream",
          "name": "stdout",
          "text": [
            "Collecting scikit-opt\n",
            "  Downloading scikit_opt-0.6.6-py3-none-any.whl (35 kB)\n",
            "Requirement already satisfied: numpy in /usr/local/lib/python3.10/dist-packages (from scikit-opt) (1.25.2)\n",
            "Requirement already satisfied: scipy in /usr/local/lib/python3.10/dist-packages (from scikit-opt) (1.11.4)\n",
            "Installing collected packages: scikit-opt\n",
            "Successfully installed scikit-opt-0.6.6\n"
          ]
        }
      ],
      "source": [
        "pip install scikit-opt"
      ]
    },
    {
      "cell_type": "code",
      "source": [
        "\n",
        "import numpy as np"
      ],
      "metadata": {
        "id": "rlpb6L6V3qlJ"
      },
      "execution_count": 8,
      "outputs": []
    },
    {
      "cell_type": "code",
      "source": [
        "def obj_func(p):\n",
        "    x = np.zeros(30)  # Inicializa um array de 30 elementos com zeros\n",
        "    for i in range(30):\n",
        "        x[i] = p[i]  # Atribui os valores de p para x na posição i\n",
        "\n",
        "    soma = 0\n",
        "    for i in range(29):\n",
        "        soma += (100*(x[i]**2 - x[i+1])**2 + (x[i] - 1)**2)\n",
        "    return soma"
      ],
      "metadata": {
        "id": "qpJEaKHZ3IzW"
      },
      "execution_count": 9,
      "outputs": []
    },
    {
      "cell_type": "code",
      "source": [
        "from sko.DE import DE\n",
        "\n",
        "de = DE(func=obj_func, n_dim=30, size_pop=50, max_iter=800, lb = [-50] * 30, ub = [50] * 30)\n",
        "\n",
        "best_x, best_y = de.run()\n",
        "print('best_x:', best_x, '\\n', 'best_y:', best_y)\n"
      ],
      "metadata": {
        "colab": {
          "base_uri": "https://localhost:8080/"
        },
        "id": "ltobYIOr3aDc",
        "outputId": "7de67f61-b117-42c9-dbe5-4ff893876ce1"
      },
      "execution_count": 12,
      "outputs": [
        {
          "output_type": "stream",
          "name": "stdout",
          "text": [
            "best_x: [ 0.730839    0.52482217  0.27350026  0.07845783  0.01444556  0.01697339\n",
            "  0.00721679  0.01079277  0.00829922  0.01297324  0.00949052  0.01019166\n",
            "  0.01943391  0.00460259  0.01982643  0.01660238  0.00510834  0.00775916\n",
            "  0.02130968  0.01024963  0.00711106  0.01340539  0.00991132  0.01939316\n",
            "  0.01175128  0.00587966  0.00680679  0.01607276  0.00857147 -0.00788723] \n",
            " best_y: [26.49182883]\n"
          ]
        }
      ]
    }
  ]
}