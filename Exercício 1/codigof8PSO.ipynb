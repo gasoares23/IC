{
  "nbformat": 4,
  "nbformat_minor": 0,
  "metadata": {
    "colab": {
      "provenance": [],
      "authorship_tag": "ABX9TyOB+uy8VitQdllqvU5XZdap",
      "include_colab_link": true
    },
    "kernelspec": {
      "name": "python3",
      "display_name": "Python 3"
    },
    "language_info": {
      "name": "python"
    }
  },
  "cells": [
    {
      "cell_type": "markdown",
      "metadata": {
        "id": "view-in-github",
        "colab_type": "text"
      },
      "source": [
        "<a href=\"https://colab.research.google.com/github/gasoares23/IC/blob/main/codigof8PSO.ipynb\" target=\"_parent\"><img src=\"https://colab.research.google.com/assets/colab-badge.svg\" alt=\"Open In Colab\"/></a>"
      ]
    },
    {
      "cell_type": "code",
      "execution_count": 1,
      "metadata": {
        "colab": {
          "base_uri": "https://localhost:8080/"
        },
        "id": "TPf2y3pY1bVa",
        "outputId": "0b526d3b-c8b0-4792-d7f6-535d78af8797"
      },
      "outputs": [
        {
          "output_type": "stream",
          "name": "stdout",
          "text": [
            "Collecting scikit-opt\n",
            "  Downloading scikit_opt-0.6.6-py3-none-any.whl (35 kB)\n",
            "Requirement already satisfied: numpy in /usr/local/lib/python3.10/dist-packages (from scikit-opt) (1.25.2)\n",
            "Requirement already satisfied: scipy in /usr/local/lib/python3.10/dist-packages (from scikit-opt) (1.11.4)\n",
            "Installing collected packages: scikit-opt\n",
            "Successfully installed scikit-opt-0.6.6\n"
          ]
        }
      ],
      "source": [
        "pip install scikit-opt"
      ]
    },
    {
      "cell_type": "code",
      "source": [
        "import numpy as np\n",
        "\n",
        "def demo_func(x):\n",
        "\n",
        "    for i in range(30):\n",
        "        x[i]\n",
        "\n",
        "    soma = 0\n",
        "    for i in range(30):\n",
        "        soma += x[i] * np.sin((abs(x[i])**0.5))\n",
        "\n",
        "    result = 418.9829*30 - soma\n",
        "    return result"
      ],
      "metadata": {
        "id": "BZbi-kl01dfL"
      },
      "execution_count": 2,
      "outputs": []
    },
    {
      "cell_type": "code",
      "source": [
        "from sko.PSO import PSO\n",
        "\n",
        "pso = PSO(func=demo_func, n_dim=30, pop=40, max_iter=150, lb=[-500] * 30, ub=[500] * 30, w=0.8, c1=0.5, c2=0.5)\n",
        "pso.run()\n",
        "print('best_x is ', pso.gbest_x, 'best_y is', pso.gbest_y)"
      ],
      "metadata": {
        "colab": {
          "base_uri": "https://localhost:8080/"
        },
        "id": "ZDAxC9Ew10mk",
        "outputId": "b1d0a711-9a1e-4f64-fef5-7a07e999a2a3"
      },
      "execution_count": 3,
      "outputs": [
        {
          "output_type": "stream",
          "name": "stdout",
          "text": [
            "best_x is  [-500.         -500.         -500.          421.07386859  421.10817157\n",
            "  420.75010346  500.          500.          421.07816123 -302.89342939\n",
            " -500.         -500.          420.72303054   63.02871866 -500.\n",
            " -500.          420.78437879  422.68739596 -302.6624013  -302.63774785\n",
            "  500.          203.34146298 -500.          420.6660731   421.08133559\n",
            " -500.         -500.            5.48458125  421.22061054 -500.        ] best_y is [5765.2011462]\n"
          ]
        }
      ]
    },
    {
      "cell_type": "code",
      "source": [
        "import matplotlib.pyplot as plt\n",
        "\n",
        "plt.plot(pso.gbest_y_hist)\n",
        "plt.show()"
      ],
      "metadata": {
        "colab": {
          "base_uri": "https://localhost:8080/",
          "height": 430
        },
        "id": "VqLC0hvS12if",
        "outputId": "83e182c6-9bcb-4d50-e92b-64f4fab0c90f"
      },
      "execution_count": 4,
      "outputs": [
        {
          "output_type": "display_data",
          "data": {
            "text/plain": [
              "<Figure size 640x480 with 1 Axes>"
            ],
            "image/png": "[encoded data removed]"
          },
          "metadata": {}
        }
      ]
    }
  ]
}