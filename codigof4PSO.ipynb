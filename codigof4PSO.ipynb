{
  "nbformat": 4,
  "nbformat_minor": 0,
  "metadata": {
    "colab": {
      "provenance": [],
      "authorship_tag": "ABX9TyN/9fDM4lAbwzo68pXiLzC+",
      "include_colab_link": true
    },
    "kernelspec": {
      "name": "python3",
      "display_name": "Python 3"
    },
    "language_info": {
      "name": "python"
    }
  },
  "cells": [
    {
      "cell_type": "markdown",
      "metadata": {
        "id": "view-in-github",
        "colab_type": "text"
      },
      "source": [
        "<a href=\"https://colab.research.google.com/github/gasoares23/IC/blob/main/codigof4PSO.ipynb\" target=\"_parent\"><img src=\"https://colab.research.google.com/assets/colab-badge.svg\" alt=\"Open In Colab\"/></a>"
      ]
    },
    {
      "cell_type": "code",
      "execution_count": 1,
      "metadata": {
        "colab": {
          "base_uri": "https://localhost:8080/"
        },
        "id": "4sExDSXoyQsm",
        "outputId": "5274b0a2-0ad0-4cd1-ee79-057778f70ba6"
      },
      "outputs": [
        {
          "output_type": "stream",
          "name": "stdout",
          "text": [
            "Collecting scikit-opt\n",
            "  Downloading scikit_opt-0.6.6-py3-none-any.whl (35 kB)\n",
            "Requirement already satisfied: numpy in /usr/local/lib/python3.10/dist-packages (from scikit-opt) (1.25.2)\n",
            "Requirement already satisfied: scipy in /usr/local/lib/python3.10/dist-packages (from scikit-opt) (1.11.4)\n",
            "Installing collected packages: scikit-opt\n",
            "Successfully installed scikit-opt-0.6.6\n"
          ]
        }
      ],
      "source": [
        "pip install scikit-opt"
      ]
    },
    {
      "cell_type": "code",
      "source": [
        "def demo_func(x):\n",
        "\n",
        "    for i in range(30):\n",
        "        x[i]\n",
        "\n",
        "    soma = 0\n",
        "    for i in range(29):\n",
        "        soma += (100*(x[i]**2 - x[i+1])**2 + (x[i] - 1)**2)\n",
        "    return soma"
      ],
      "metadata": {
        "id": "zahW4dJpyVLO"
      },
      "execution_count": 3,
      "outputs": []
    },
    {
      "cell_type": "code",
      "source": [
        "from sko.PSO import PSO\n",
        "\n",
        "pso = PSO(func=demo_func, n_dim=30, pop=40, max_iter=150, lb=[-50] * 30, ub=[50] * 30, w=0.8, c1=0.5, c2=0.5)\n",
        "pso.run()\n",
        "print('best_x is ', pso.gbest_x, 'best_y is', pso.gbest_y)"
      ],
      "metadata": {
        "colab": {
          "base_uri": "https://localhost:8080/"
        },
        "id": "zUZ8S2co0G7s",
        "outputId": "49fdf556-60e2-4f22-d7ca-898ab376fa2c"
      },
      "execution_count": 5,
      "outputs": [
        {
          "output_type": "stream",
          "name": "stdout",
          "text": [
            "best_x is  [ -9.48022256  -3.7884874    7.7478754   -3.78233305  -5.28371074\n",
            "   6.63375286  -4.74157667 -20.20855039   9.33939617 -11.26705253\n",
            "   8.54411391   9.13471168   6.81382428   4.05098596  -8.65872624\n",
            "  11.06601838  14.57184554  -4.54818664 -15.15991575 -15.01470496\n",
            "   1.58789514  12.98553608  11.18434648   6.02849847  -7.46260745\n",
            "  15.02009708   2.66716673  -1.66729557  12.0147055   50.        ] best_y is [48879909.06102219]\n"
          ]
        }
      ]
    },
    {
      "cell_type": "code",
      "source": [
        "import matplotlib.pyplot as plt\n",
        "\n",
        "plt.plot(pso.gbest_y_hist)\n",
        "plt.show()"
      ],
      "metadata": {
        "colab": {
          "base_uri": "https://localhost:8080/",
          "height": 445
        },
        "id": "PNeMcnB60XH_",
        "outputId": "f8679d4a-9947-4108-b359-28271568fdcf"
      },
      "execution_count": 6,
      "outputs": [
        {
          "output_type": "display_data",
          "data": {
            "text/plain": [
              "<Figure size 640x480 with 1 Axes>"
            ],
            "image/png": "[encoded data removed]"
          },
          "metadata": {}
        }
      ]
    }
  ]
}