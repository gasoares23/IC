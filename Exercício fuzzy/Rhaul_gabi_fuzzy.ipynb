{
  "nbformat": 4,
  "nbformat_minor": 0,
  "metadata": {
    "colab": {
      "provenance": []
    },
    "kernelspec": {
      "name": "python3",
      "display_name": "Python 3"
    },
    "language_info": {
      "name": "python"
    }
  },
  "cells": [
    {
      "cell_type": "code",
      "execution_count": 1,
      "metadata": {
        "colab": {
          "base_uri": "https://localhost:8080/",
          "height": 383
        },
        "id": "VjBEXaVCXfLc",
        "outputId": "2c868ee3-2ff2-49b9-c885-f5f33fab2943"
      },
      "outputs": [
        {
          "output_type": "error",
          "ename": "ModuleNotFoundError",
          "evalue": "No module named 'skfuzzy'",
          "traceback": [
            "\u001b[0;31m---------------------------------------------------------------------------\u001b[0m",
            "\u001b[0;31mModuleNotFoundError\u001b[0m                       Traceback (most recent call last)",
            "\u001b[0;32m<ipython-input-1-45a4701e5100>\u001b[0m in \u001b[0;36m<cell line: 2>\u001b[0;34m()\u001b[0m\n\u001b[1;32m      1\u001b[0m \u001b[0;32mimport\u001b[0m \u001b[0mnumpy\u001b[0m \u001b[0;32mas\u001b[0m \u001b[0mnp\u001b[0m\u001b[0;34m\u001b[0m\u001b[0;34m\u001b[0m\u001b[0m\n\u001b[0;32m----> 2\u001b[0;31m \u001b[0;32mimport\u001b[0m \u001b[0mskfuzzy\u001b[0m \u001b[0;32mas\u001b[0m \u001b[0mfuzz\u001b[0m\u001b[0;34m\u001b[0m\u001b[0;34m\u001b[0m\u001b[0m\n\u001b[0m\u001b[1;32m      3\u001b[0m \u001b[0;32mfrom\u001b[0m \u001b[0mskfuzzy\u001b[0m \u001b[0;32mimport\u001b[0m \u001b[0mcontrol\u001b[0m \u001b[0;32mas\u001b[0m \u001b[0mctrl\u001b[0m\u001b[0;34m\u001b[0m\u001b[0;34m\u001b[0m\u001b[0m\n\u001b[1;32m      4\u001b[0m \u001b[0;34m\u001b[0m\u001b[0m\n\u001b[1;32m      5\u001b[0m \u001b[0;31m# Variáveis de entrada\u001b[0m\u001b[0;34m\u001b[0m\u001b[0;34m\u001b[0m\u001b[0m\n",
            "\u001b[0;31mModuleNotFoundError\u001b[0m: No module named 'skfuzzy'",
            "",
            "\u001b[0;31m---------------------------------------------------------------------------\u001b[0;32m\nNOTE: If your import is failing due to a missing package, you can\nmanually install dependencies using either !pip or !apt.\n\nTo view examples of installing some common dependencies, click the\n\"Open Examples\" button below.\n\u001b[0;31m---------------------------------------------------------------------------\u001b[0m\n"
          ],
          "errorDetails": {
            "actions": [
              {
                "action": "open_url",
                "actionText": "Open Examples",
                "url": "/notebooks/snippets/importing_libraries.ipynb"
              }
            ]
          }
        }
      ],
      "source": [
        "import numpy as np\n",
        "import skfuzzy as fuzz\n",
        "from skfuzzy import control as ctrl\n",
        "\n",
        "# Variáveis de entrada\n",
        "pedido = ctrl.Antecedent(np.arange(0, 101, 1), 'pedido')\n",
        "estoque = ctrl.Antecedent(np.arange(0, 101, 1), 'estoque')\n",
        "marketing = ctrl.Antecedent(np.arange(0, 101, 1), 'marketing')\n",
        "business = ctrl.Antecedent(np.arange(0, 101, 1), 'business')\n",
        "\n",
        "# Variável de saída\n",
        "venda = ctrl.Consequent(np.arange(0, 101, 1), 'venda')\n",
        "\n",
        "# Funções de pertinência\n",
        "pedido['baixo'] = fuzz.trimf(pedido.universe, [0, 0, 50])\n",
        "pedido['medio'] = fuzz.trimf(pedido.universe, [0, 50, 100])\n",
        "pedido['alto'] = fuzz.trimf(pedido.universe, [50, 100, 100])\n",
        "\n",
        "estoque['baixo'] = fuzz.trimf(estoque.universe, [0, 0, 50])\n",
        "estoque['medio'] = fuzz.trimf(estoque.universe, [0, 50, 100])\n",
        "estoque['alto'] = fuzz.trimf(estoque.universe, [50, 100, 100])\n",
        "\n",
        "marketing['baixo'] = fuzz.trimf(marketing.universe, [0, 0, 50])\n",
        "marketing['medio'] = fuzz.trimf(marketing.universe, [0, 50, 100])\n",
        "marketing['alto'] = fuzz.trimf(marketing.universe, [50, 100, 100])\n",
        "\n",
        "business['pequeno'] = fuzz.trimf(business.universe, [0, 0, 50])\n",
        "business['medio'] = fuzz.trimf(business.universe, [0, 50, 100])\n",
        "business['grande'] = fuzz.trimf(business.universe, [50, 100, 100])\n",
        "\n",
        "venda['ruim'] = fuzz.trimf(venda.universe, [0, 0, 25])\n",
        "venda['razoavel'] = fuzz.trimf(venda.universe, [0, 25, 50])\n",
        "venda['bom'] = fuzz.trimf(venda.universe, [25, 50, 75])\n",
        "venda['muito_bom'] = fuzz.trimf(venda.universe, [50, 75, 100])\n",
        "venda['excelente'] = fuzz.trimf(venda.universe, [75, 100, 100])\n",
        "\n",
        "# Regras\n",
        "regra1 = ctrl.Rule(pedido['baixo'] & estoque['baixo'] & marketing['baixo'] & business['pequeno'], venda['ruim'])\n",
        "regra2 = ctrl.Rule(pedido['medio'] & estoque['medio'] & marketing['medio'] & business['medio'], venda['bom'])\n",
        "regra3 = ctrl.Rule(pedido['alto'] & estoque['alto'] & marketing['alto'] & business['grande'], venda['excelente'])\n",
        "regra4 = ctrl.Rule(pedido['medio'] & estoque['medio'] & marketing['baixo'] & business['pequeno'], venda['razoavel'])\n",
        "regra5 = ctrl.Rule(pedido['alto'] & estoque['medio'] & marketing['baixo'] & business['pequeno'], venda['ruim'])\n",
        "regra6 = ctrl.Rule(pedido['alto'] & estoque['baixo'] & marketing['alto'] & business['grande'], venda['excelente'])\n",
        "regra7 = ctrl.Rule(pedido['alto'] & estoque['alto'] & marketing['alto'] & business['grande'], venda['muito_bom'])\n",
        "regra8 = ctrl.Rule(pedido['medio'] & estoque['alto'] & marketing['alto'] & business['medio'], venda['bom'])\n",
        "\n",
        "# Controle\n",
        "controle = ctrl.ControlSystem([regra1, regra2, regra3, regra4, regra5, regra6, regra7, regra8])\n",
        "simulacao = ctrl.ControlSystemSimulation(controle)\n",
        "\n",
        "\n",
        "# Entrada dos valores\n",
        "simulacao.input['pedido'] = 75\n",
        "simulacao.input['estoque'] = 25\n",
        "simulacao.input['marketing'] = 65\n",
        "simulacao.input['business'] = 85\n",
        "\n",
        "# Computação do resultado\n",
        "simulacao.compute()\n",
        "\n",
        "# Resultado\n",
        "print(\"Valor de venda:\", simulacao.output['venda'])\n",
        "venda.view(sim=simulacao)\n",
        "\n",
        "# Visualização das funções de pertinência e das regras\n",
        "pedido.view()\n",
        "estoque.view()\n",
        "marketing.view()\n",
        "business.view()\n",
        "venda.view()"
      ]
    }
  ]
}