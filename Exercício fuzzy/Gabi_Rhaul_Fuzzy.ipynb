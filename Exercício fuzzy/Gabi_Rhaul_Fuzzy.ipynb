{
  "nbformat": 4,
  "nbformat_minor": 0,
  "metadata": {
    "colab": {
      "provenance": []
    },
    "kernelspec": {
      "name": "python3",
      "display_name": "Python 3"
    },
    "language_info": {
      "name": "python"
    }
  },
  "cells": [
    {
      "cell_type": "code",
      "source": [
        "pip install scikit-fuzzy"
      ],
      "metadata": {
        "colab": {
          "base_uri": "https://localhost:8080/"
        },
        "id": "PUVPXgOvGIzU",
        "outputId": "da46fb5b-7559-483e-d03c-889a75d1d3f9"
      },
      "execution_count": 1,
      "outputs": [
        {
          "output_type": "stream",
          "name": "stdout",
          "text": [
            "Collecting scikit-fuzzy\n",
            "  Downloading scikit-fuzzy-0.4.2.tar.gz (993 kB)\n",
            "\u001b[2K     \u001b[90m━━━━━━━━━━━━━━━━━━━━━━━━━━━━━━━━━━━━━━━━\u001b[0m \u001b[32m994.0/994.0 kB\u001b[0m \u001b[31m7.3 MB/s\u001b[0m eta \u001b[36m0:00:00\u001b[0m\n",
            "\u001b[?25h  Preparing metadata (setup.py) ... \u001b[?25l\u001b[?25hdone\n",
            "Requirement already satisfied: numpy>=1.6.0 in /usr/local/lib/python3.10/dist-packages (from scikit-fuzzy) (1.25.2)\n",
            "Requirement already satisfied: scipy>=0.9.0 in /usr/local/lib/python3.10/dist-packages (from scikit-fuzzy) (1.11.4)\n",
            "Requirement already satisfied: networkx>=1.9.0 in /usr/local/lib/python3.10/dist-packages (from scikit-fuzzy) (3.3)\n",
            "Building wheels for collected packages: scikit-fuzzy\n",
            "  Building wheel for scikit-fuzzy (setup.py) ... \u001b[?25l\u001b[?25hdone\n",
            "  Created wheel for scikit-fuzzy: filename=scikit_fuzzy-0.4.2-py3-none-any.whl size=894078 sha256=6515270291df1f6b50aace1b7c606670ffcc54879562f54ea78a671c4241a244\n",
            "  Stored in directory: /root/.cache/pip/wheels/4f/86/1b/dfd97134a2c8313e519bcebd95d3fedc7be7944db022094bc8\n",
            "Successfully built scikit-fuzzy\n",
            "Installing collected packages: scikit-fuzzy\n",
            "Successfully installed scikit-fuzzy-0.4.2\n"
          ]
        }
      ]
    },
    {
      "cell_type": "code",
      "execution_count": null,
      "metadata": {
        "id": "x-nXxJ_jGIYP"
      },
      "outputs": [],
      "source": [
        "\n",
        "import numpy as np\n",
        "import skfuzzy as fuzz\n",
        "from skfuzzy import control as ctrl\n",
        "\n",
        "# Variáveis de entrada\n",
        "pedido = ctrl.Antecedent(np.arange(0, 101, 1), 'pedido')\n",
        "estoque = ctrl.Antecedent(np.arange(0, 101, 1), 'estoque')\n",
        "marketing = ctrl.Antecedent(np.arange(0, 101, 1), 'marketing')\n",
        "business = ctrl.Antecedent(np.arange(0, 101, 1), 'business')\n",
        "\n",
        "# Variável de saída\n",
        "venda = ctrl.Consequent(np.arange(0, 101, 1), 'venda')\n",
        "\n",
        "# Funções de pertinência\n",
        "pedido['baixo'] = fuzz.trimf(pedido.universe, [0, 0, 50])\n",
        "pedido['medio'] = fuzz.trimf(pedido.universe, [0, 50, 100])\n",
        "pedido['alto'] = fuzz.trimf(pedido.universe, [50, 100, 100])\n",
        "\n",
        "estoque['baixo'] = fuzz.trimf(estoque.universe, [0, 0, 50])\n",
        "estoque['medio'] = fuzz.trimf(estoque.universe, [0, 50, 100])\n",
        "estoque['alto'] = fuzz.trimf(estoque.universe, [50, 100, 100])\n",
        "\n",
        "marketing['baixo'] = fuzz.trimf(marketing.universe, [0, 0, 50])\n",
        "marketing['medio'] = fuzz.trimf(marketing.universe, [0, 50, 100])\n",
        "marketing['alto'] = fuzz.trimf(marketing.universe, [50, 100, 100])\n",
        "\n",
        "business['pequeno'] = fuzz.trimf(business.universe, [0, 0, 50])\n",
        "business['medio'] = fuzz.trimf(business.universe, [0, 50, 100])\n",
        "business['grande'] = fuzz.trimf(business.universe, [50, 100, 100])\n",
        "\n",
        "venda['ruim'] = fuzz.trimf(venda.universe, [0, 0, 25])\n",
        "venda['razoavel'] = fuzz.trimf(venda.universe, [0, 25, 50])\n",
        "venda['bom'] = fuzz.trimf(venda.universe, [25, 50, 75])\n",
        "venda['muito_bom'] = fuzz.trimf(venda.universe, [50, 75, 100])\n",
        "venda['excelente'] = fuzz.trimf(venda.universe, [75, 100, 100])\n",
        "\n",
        "# Regras\n",
        "regra1 = ctrl.Rule(pedido['baixo'] & estoque['baixo'] & marketing['baixo'] & business['pequeno'], venda['ruim'])\n",
        "regra2 = ctrl.Rule(pedido['medio'] & estoque['medio'] & marketing['medio'] & business['medio'], venda['bom'])\n",
        "regra3 = ctrl.Rule(pedido['alto'] & estoque['alto'] & marketing['alto'] & business['grande'], venda['excelente'])\n",
        "regra4 = ctrl.Rule(pedido['medio'] & estoque['medio'] & marketing['baixo'] & business['pequeno'], venda['razoavel'])\n",
        "regra5 = ctrl.Rule(pedido['alto'] & estoque['medio'] & marketing['baixo'] & business['pequeno'], venda['ruim'])\n",
        "regra6 = ctrl.Rule(pedido['alto'] & estoque['baixo'] & marketing['alto'] & business['grande'], venda['excelente'])\n",
        "regra7 = ctrl.Rule(pedido['alto'] & estoque['alto'] & marketing['alto'] & business['grande'], venda['muito_bom'])\n",
        "regra8 = ctrl.Rule(pedido['medio'] & estoque['alto'] & marketing['alto'] & business['medio'], venda['bom'])\n",
        "\n",
        "# Controle\n",
        "controle = ctrl.ControlSystem([regra1, regra2, regra3, regra4, regra5, regra6, regra7, regra8])\n",
        "simulacao = ctrl.ControlSystemSimulation(controle)\n",
        "\n",
        "\n",
        "# Entrada dos valores\n",
        "simulacao.input['pedido'] = 75\n",
        "simulacao.input['estoque'] = 25\n",
        "simulacao.input['marketing'] = 65\n",
        "simulacao.input['business'] = 85\n",
        "\n",
        "# Computação do resultado\n",
        "simulacao.compute()\n",
        "\n",
        "# Resultado\n",
        "print(\"Valor de venda:\", simulacao.output['venda'])\n",
        "venda.view(sim=simulacao)\n",
        "\n",
        "# Visualização das funções de pertinência e das regras\n",
        "pedido.view()\n",
        "estoque.view()\n",
        "marketing.view()\n",
        "business.view()\n",
        "venda.view()"
      ]
    }
  ]
}