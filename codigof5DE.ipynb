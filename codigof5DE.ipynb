{
  "nbformat": 4,
  "nbformat_minor": 0,
  "metadata": {
    "colab": {
      "provenance": [],
      "authorship_tag": "ABX9TyNOiJDq6/3TgfYOCeLfK21Q",
      "include_colab_link": true
    },
    "kernelspec": {
      "name": "python3",
      "display_name": "Python 3"
    },
    "language_info": {
      "name": "python"
    }
  },
  "cells": [
    {
      "cell_type": "markdown",
      "metadata": {
        "id": "view-in-github",
        "colab_type": "text"
      },
      "source": [
        "<a href=\"https://colab.research.google.com/github/gasoares23/IC/blob/main/codigof5DE.ipynb\" target=\"_parent\"><img src=\"https://colab.research.google.com/assets/colab-badge.svg\" alt=\"Open In Colab\"/></a>"
      ]
    },
    {
      "cell_type": "code",
      "execution_count": 1,
      "metadata": {
        "colab": {
          "base_uri": "https://localhost:8080/"
        },
        "id": "s0GwoHgW3-LB",
        "outputId": "d5b0b003-3d61-4753-ef92-cd70c8ddfaeb"
      },
      "outputs": [
        {
          "output_type": "stream",
          "name": "stdout",
          "text": [
            "Collecting scikit-opt\n",
            "  Downloading scikit_opt-0.6.6-py3-none-any.whl (35 kB)\n",
            "Requirement already satisfied: numpy in /usr/local/lib/python3.10/dist-packages (from scikit-opt) (1.25.2)\n",
            "Requirement already satisfied: scipy in /usr/local/lib/python3.10/dist-packages (from scikit-opt) (1.11.4)\n",
            "Installing collected packages: scikit-opt\n",
            "Successfully installed scikit-opt-0.6.6\n"
          ]
        }
      ],
      "source": [
        "\n",
        "pip install scikit-opt"
      ]
    },
    {
      "cell_type": "code",
      "source": [
        "import numpy as np\n",
        "\n",
        "def obj_func(p):\n",
        "    x = np.zeros(30)  # Inicializa um array de 30 elementos com zeros\n",
        "    for i in range(30):\n",
        "        x[i] = p[i]  # Atribui os valores de p para x na posição i\n",
        "\n",
        "    soma = 0\n",
        "    for i in range(30):\n",
        "        soma += x[i]**2 - 10 * np.cos(2 * np.pi * x[i]) + 10\n",
        "    return soma"
      ],
      "metadata": {
        "id": "GbWPhr8G4Ez_"
      },
      "execution_count": 2,
      "outputs": []
    },
    {
      "cell_type": "code",
      "source": [
        "from sko.DE import DE\n",
        "\n",
        "de = DE(func=obj_func, n_dim=30, size_pop=50, max_iter=800, lb = [-5.12] * 30, ub = [5.12] * 30)\n",
        "\n",
        "best_x, best_y = de.run()\n",
        "print('best_x:', best_x, '\\n', 'best_y:', best_y)\n"
      ],
      "metadata": {
        "colab": {
          "base_uri": "https://localhost:8080/"
        },
        "id": "Zp_avNIA4UDc",
        "outputId": "f9ede2aa-73fa-4dc5-f6ce-662502acb8a4"
      },
      "execution_count": 3,
      "outputs": [
        {
          "output_type": "stream",
          "name": "stdout",
          "text": [
            "best_x: [ 1.77055879e-02 -1.43934496e-03  1.10001800e+00  4.93667043e-02\n",
            "  9.28212985e-01  1.02548077e+00  1.08990449e-02  9.61636011e-01\n",
            "  1.11043070e+00 -8.70766418e-01  1.00011077e+00  1.03545014e+00\n",
            "  1.13955707e-01 -8.81641182e-02 -1.03798975e+00 -4.43654365e-02\n",
            "  1.03058321e+00  1.64005533e-02 -8.99407647e-02 -9.71315147e-02\n",
            "  9.97366783e-01 -5.69555632e-02 -3.39869354e-04  3.43341864e-03\n",
            " -1.02913378e-01  1.02657903e+00 -9.93446334e-01  9.70513035e-02\n",
            " -2.03389061e-02 -9.00015368e-03] \n",
            " best_y: [35.84423307]\n"
          ]
        }
      ]
    }
  ]
}