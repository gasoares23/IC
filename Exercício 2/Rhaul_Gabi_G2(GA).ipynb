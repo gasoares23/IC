{
  "nbformat": 4,
  "nbformat_minor": 0,
  "metadata": {
    "colab": {
      "provenance": [],
      "include_colab_link": true
    },
    "kernelspec": {
      "name": "python3",
      "display_name": "Python 3"
    },
    "language_info": {
      "name": "python"
    }
  },
  "cells": [
    {
      "cell_type": "markdown",
      "metadata": {
        "id": "view-in-github",
        "colab_type": "text"
      },
      "source": [
        "<a href=\"https://colab.research.google.com/github/gasoares23/IC/blob/main/Rhaul_Gabi_G2(GA).ipynb\" target=\"_parent\"><img src=\"https://colab.research.google.com/assets/colab-badge.svg\" alt=\"Open In Colab\"/></a>"
      ]
    },
    {
      "cell_type": "code",
      "execution_count": null,
      "metadata": {
        "colab": {
          "base_uri": "https://localhost:8080/"
        },
        "id": "4JuYPJlUSgGS",
        "outputId": "4b6814c9-2f0c-420d-8a07-32990e1f233d"
      },
      "outputs": [
        {
          "output_type": "stream",
          "name": "stdout",
          "text": [
            "Collecting scikit-opt\n",
            "  Downloading scikit_opt-0.6.6-py3-none-any.whl (35 kB)\n",
            "Requirement already satisfied: numpy in /usr/local/lib/python3.10/dist-packages (from scikit-opt) (1.25.2)\n",
            "Requirement already satisfied: scipy in /usr/local/lib/python3.10/dist-packages (from scikit-opt) (1.11.4)\n",
            "Installing collected packages: scikit-opt\n",
            "Successfully installed scikit-opt-0.6.6\n"
          ]
        }
      ],
      "source": [
        "!pip install scikit-opt"
      ]
    },
    {
      "cell_type": "code",
      "source": [
        "import random\n",
        "import numpy as np\n",
        "\n",
        "# Define the objective function\n",
        "def objective_function(x):\n",
        " x1, x2, x3, x4, x5, x6, x7 = x\n",
        " return (x1 - 10)**2 + 5*(x2 - 12)**2 + x3**4 + 3*(x4 - 11)**2 + 10*(x5**6) + 7*(x6**2) + x7**4 - 4*x6*x7 - 10*x6 - 8*x7\n",
        "\n",
        "# Define the constraints\n",
        "def restricao1(x):\n",
        " x1, x2, x3, x4, x5, x6, x7 = x\n",
        " return 127 - 2*(x1**2) - 3*(x2**4) - x3 - 4*(x4**2) - 5*(x5)\n",
        "def restricao2(x):\n",
        " x1, x2, x3, x4, x5, x6, x7 = x\n",
        " return 282 - 7*(x1) - 3*(x2) - 10*(x3**2) - x4 + x5\n",
        "def restricao3(x):\n",
        " x1, x2, x3, x4, x5, x6, x7 = x\n",
        " return 196 - 23*(x1) - x2**2 - 6*(x6**2) + 8*(x7)\n",
        "def restricao4(x):\n",
        " x1, x2, x3, x4, x5, x6, x7 = x\n",
        " return 4*(x1**2) + x2**2 - 3*x1*x2 + 2*(x3**2) + 5*(x6) - 11*(x7)\n",
        "\n",
        "# Define the penalty function\n",
        "def penalty_function(x):\n",
        " return max(0, restricao1(x)) + max(0, restricao2(x)) + max(0, restricao3(x)) + max(0,\n",
        "restricao4(x))\n",
        "\n",
        "def fitness_function(x):\n",
        " return objective_function(x) + penalty_function(x)\n",
        "import numpy as np\n",
        "from sko.GA import GA\n",
        "ga = GA(func=fitness_function, n_dim=7, size_pop=50, max_iter=100, prob_mut=0.01, lb=[-10,\n",
        "-10, -10, -10, -10, -10, -10], ub=[10, 10, 10, 10, 10, 10, 10], precision=1e-7)\n",
        "best_x, best_y = ga.run()\n",
        "print('best_x:', best_x, '\\n', 'best_y:', best_y)\n",
        "\n",
        "import pandas as pd\n",
        "import matplotlib.pyplot as plt\n",
        "Y_history = pd.DataFrame(ga.all_history_Y)\n",
        "fig, ax = plt.subplots(2, 1)\n",
        "ax[0].plot(Y_history.index, Y_history.values, '.', color='red')\n",
        "Y_history.min(axis=1).cummin().plot(kind='line')\n",
        "plt.show()"
      ],
      "metadata": {
        "colab": {
          "base_uri": "https://localhost:8080/",
          "height": 497
        },
        "id": "6aZvUcCvTdif",
        "outputId": "f633bf09-9c60-413e-f553-2f7e908f773f"
      },
      "execution_count": null,
      "outputs": [
        {
          "output_type": "stream",
          "name": "stdout",
          "text": [
            "best_x: [ 5.69562456  9.999872    1.99379627  9.9992574  -0.44974622  0.88147235\n",
            "  1.78512876] \n",
            " best_y: [257.16643061]\n"
          ]
        },
        {
          "output_type": "display_data",
          "data": {
            "text/plain": [
              "<Figure size 640x480 with 2 Axes>"
            ],
            "image/png": "[encoded data removed]"
          },
          "metadata": {}
        }
      ]
    },
    {
      "cell_type": "code",
      "source": [],
      "metadata": {
        "id": "9uraRZ6NTta2"
      },
      "execution_count": null,
      "outputs": []
    },
    {
      "cell_type": "code",
      "source": [],
      "metadata": {
        "id": "eQRuF7ToThIG"
      },
      "execution_count": null,
      "outputs": []
    }
  ]
}